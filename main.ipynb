{
 "cells": [
  {
   "cell_type": "markdown",
   "id": "e927453b",
   "metadata": {},
   "source": [
    "## Подключение всех необходимых библиотек"
   ]
  },
  {
   "cell_type": "code",
   "execution_count": 1,
   "id": "659dba7f",
   "metadata": {},
   "outputs": [],
   "source": [
    "import librosa\n",
    "import tqdm\n",
    "import os\n",
    "\n",
    "import numpy as np\n",
    "import pandas as pd\n",
    "\n",
    "from torch import nn\n",
    "from torch.functional import F\n",
    "from sklearn.model_selection import train_test_split\n",
    "from sklearn.preprocessing import StandardScaler\n",
    "from sklearn.decomposition import PCA"
   ]
  },
  {
   "cell_type": "markdown",
   "id": "3a478508",
   "metadata": {},
   "source": [
    "# Hyperparameters"
   ]
  },
  {
   "cell_type": "code",
   "execution_count": 433,
   "id": "727bd37c",
   "metadata": {},
   "outputs": [],
   "source": [
    "N_MFCCS = 25"
   ]
  },
  {
   "cell_type": "markdown",
   "id": "ae32041f",
   "metadata": {},
   "source": [
    "# Обработка аудио файлов и создание csv файла (датасета) с признаками"
   ]
  },
  {
   "cell_type": "code",
   "execution_count": 434,
   "id": "938e4790",
   "metadata": {},
   "outputs": [
    {
     "data": {
      "text/html": [
       "<div>\n",
       "<style scoped>\n",
       "    .dataframe tbody tr th:only-of-type {\n",
       "        vertical-align: middle;\n",
       "    }\n",
       "\n",
       "    .dataframe tbody tr th {\n",
       "        vertical-align: top;\n",
       "    }\n",
       "\n",
       "    .dataframe thead th {\n",
       "        text-align: right;\n",
       "    }\n",
       "</style>\n",
       "<table border=\"1\" class=\"dataframe\">\n",
       "  <thead>\n",
       "    <tr style=\"text-align: right;\">\n",
       "      <th></th>\n",
       "      <th>Filename</th>\n",
       "      <th>label</th>\n",
       "    </tr>\n",
       "  </thead>\n",
       "  <tbody>\n",
       "    <tr>\n",
       "      <th>0</th>\n",
       "      <td>611b27e7-0019-4fc6-9622-21d9647c45f0.mp3</td>\n",
       "      <td>1</td>\n",
       "    </tr>\n",
       "    <tr>\n",
       "      <th>1</th>\n",
       "      <td>67465147-b88c-4acd-bb91-a78340a9bde7.mp3</td>\n",
       "      <td>0</td>\n",
       "    </tr>\n",
       "    <tr>\n",
       "      <th>2</th>\n",
       "      <td>257002c3-13ce-4408-853a-a5686a051d1c.mp3</td>\n",
       "      <td>0</td>\n",
       "    </tr>\n",
       "    <tr>\n",
       "      <th>3</th>\n",
       "      <td>16c70c64-e167-40e5-a4be-cf861e84c497.mp3</td>\n",
       "      <td>0</td>\n",
       "    </tr>\n",
       "    <tr>\n",
       "      <th>4</th>\n",
       "      <td>6ed94dcd-d1e5-4d98-b6ee-d86766d7bf50.mp3</td>\n",
       "      <td>1</td>\n",
       "    </tr>\n",
       "    <tr>\n",
       "      <th>...</th>\n",
       "      <td>...</td>\n",
       "      <td>...</td>\n",
       "    </tr>\n",
       "    <tr>\n",
       "      <th>8798</th>\n",
       "      <td>4aa877af-9732-48ce-9f62-039ef9efcd71.mp3</td>\n",
       "      <td>0</td>\n",
       "    </tr>\n",
       "    <tr>\n",
       "      <th>8799</th>\n",
       "      <td>f0f0fe3d-a310-4493-90a5-29ec74f36190.mp3</td>\n",
       "      <td>1</td>\n",
       "    </tr>\n",
       "    <tr>\n",
       "      <th>8800</th>\n",
       "      <td>00ba7f5c-b440-4793-8771-e475e1eca510.mp3</td>\n",
       "      <td>0</td>\n",
       "    </tr>\n",
       "    <tr>\n",
       "      <th>8801</th>\n",
       "      <td>c0033769-6686-4bc8-9197-a13563dbd8a5.mp3</td>\n",
       "      <td>1</td>\n",
       "    </tr>\n",
       "    <tr>\n",
       "      <th>8802</th>\n",
       "      <td>da675c8b-5460-4388-8bab-86b7e5042c82.mp3</td>\n",
       "      <td>0</td>\n",
       "    </tr>\n",
       "  </tbody>\n",
       "</table>\n",
       "<p>8803 rows × 2 columns</p>\n",
       "</div>"
      ],
      "text/plain": [
       "                                      Filename  label\n",
       "0     611b27e7-0019-4fc6-9622-21d9647c45f0.mp3      1\n",
       "1     67465147-b88c-4acd-bb91-a78340a9bde7.mp3      0\n",
       "2     257002c3-13ce-4408-853a-a5686a051d1c.mp3      0\n",
       "3     16c70c64-e167-40e5-a4be-cf861e84c497.mp3      0\n",
       "4     6ed94dcd-d1e5-4d98-b6ee-d86766d7bf50.mp3      1\n",
       "...                                        ...    ...\n",
       "8798  4aa877af-9732-48ce-9f62-039ef9efcd71.mp3      0\n",
       "8799  f0f0fe3d-a310-4493-90a5-29ec74f36190.mp3      1\n",
       "8800  00ba7f5c-b440-4793-8771-e475e1eca510.mp3      0\n",
       "8801  c0033769-6686-4bc8-9197-a13563dbd8a5.mp3      1\n",
       "8802  da675c8b-5460-4388-8bab-86b7e5042c82.mp3      0\n",
       "\n",
       "[8803 rows x 2 columns]"
      ]
     },
     "execution_count": 434,
     "metadata": {},
     "output_type": "execute_result"
    }
   ],
   "source": [
    "header = 'chroma_stft rms spectral_centroid spectral_bandwidth rolloff zero_crossing_rate'\n",
    "for i in range(N_MFCCS):\n",
    "    header += f' mfcc{i}'\n",
    "labeled_dataset = pd.read_csv(\"train_gt.csv\")\n",
    "labeled_dataset"
   ]
  },
  {
   "cell_type": "markdown",
   "id": "5b624dcc",
   "metadata": {},
   "source": [
    "## 1. Заполнение csv файла данными"
   ]
  },
  {
   "cell_type": "code",
   "execution_count": 435,
   "id": "a3175f6d",
   "metadata": {
    "scrolled": false
   },
   "outputs": [
    {
     "name": "stderr",
     "output_type": "stream",
     "text": [
      "train: 100%|██████████| 8803/8803 [05:39<00:00, 25.95it/s]\n",
      "test: 100%|██████████| 2870/2870 [01:46<00:00, 26.84it/s]\n"
     ]
    }
   ],
   "source": [
    "if not os.path.exists(\"train_dataset.csv\") or \\\n",
    "    pd.read_csv(\"train_dataset.csv\").shape[1] - (6 + 1 + 1) != N_MFCCS: # other features + name + label\n",
    "    for folder in [\"train\", \"test\"]:\n",
    "        columns = (header if folder == \"test\" else header + \" label\").split()\n",
    "        features = pd.DataFrame(columns=columns)\n",
    "        for filename in tqdm.tqdm(os.listdir(folder), desc=folder):\n",
    "            songname = os.path.join(folder, filename)\n",
    "            y, sr = librosa.load(songname, mono=True)\n",
    "            rms = librosa.feature.rms(y=y)\n",
    "            chroma_stft = librosa.feature.chroma_stft(y=y, sr=sr)\n",
    "            spec_cent = librosa.feature.spectral_centroid(y=y, sr=sr)\n",
    "            spec_bw = librosa.feature.spectral_bandwidth(y=y, sr=sr)\n",
    "            rolloff = librosa.feature.spectral_rolloff(y=y, sr=sr)\n",
    "            zcr = librosa.feature.zero_crossing_rate(y)\n",
    "            mfcc = librosa.feature.mfcc(y=y, sr=sr, n_mfcc=N_MFCCS)\n",
    "\n",
    "            feature_row_data = [np.mean(chroma_stft), np.mean(rms), np.mean(spec_cent), np.mean(spec_bw), np.mean(rolloff), np.mean(zcr)]\n",
    "            for e in mfcc:\n",
    "                feature_row_data.append(np.mean(e))\n",
    "            if folder == \"train\":\n",
    "                feature_row_data.append(bool(labeled_dataset[labeled_dataset['Filename'] == filename][\"label\"].values[0]))\n",
    "            features.loc[filename] = pd.Series(feature_row_data, index=columns)\n",
    "        features.to_csv(f\"{folder}_dataset.csv\")"
   ]
  },
  {
   "cell_type": "markdown",
   "id": "9db8d5ea",
   "metadata": {},
   "source": [
    "## Обработка датасета и разделение на тренировочную и тестовую выборки"
   ]
  },
  {
   "cell_type": "code",
   "execution_count": 436,
   "id": "3b394888",
   "metadata": {},
   "outputs": [],
   "source": [
    "df = pd.read_csv(\"train_dataset.csv\", index_col=0)\n",
    "X = df.drop(columns=[\"label\"])\n",
    "y = df[\"label\"]\n",
    "X_train, X_test, y_train, y_test = train_test_split(X, y, test_size=0.2, random_state=42)\n"
   ]
  },
  {
   "cell_type": "markdown",
   "id": "c44d9dc9",
   "metadata": {},
   "source": [
    "### Масштабирование признаков"
   ]
  },
  {
   "cell_type": "code",
   "execution_count": 437,
   "id": "5f061656",
   "metadata": {},
   "outputs": [],
   "source": [
    "scaler = StandardScaler()\n",
    "X_train = scaler.fit_transform(X_train)\n",
    "X_test = scaler.transform(X_test)"
   ]
  },
  {
   "cell_type": "code",
   "execution_count": 438,
   "id": "db4bc3f9",
   "metadata": {},
   "outputs": [
    {
     "data": {
      "text/plain": [
       "'pca = PCA(n_components=9)\\nX_train = pca.fit_transform(X_train)\\nX_test = pca.transform(X_test)'"
      ]
     },
     "execution_count": 438,
     "metadata": {},
     "output_type": "execute_result"
    }
   ],
   "source": [
    "\"\"\"pca = PCA(n_components=9)\n",
    "X_train = pca.fit_transform(X_train)\n",
    "X_test = pca.transform(X_test)\"\"\""
   ]
  },
  {
   "cell_type": "code",
   "execution_count": 439,
   "id": "289a3aa7",
   "metadata": {},
   "outputs": [],
   "source": [
    "import torch.utils\n",
    "import torch.utils.data\n",
    "\n",
    "\n",
    "class MyDataset(torch.utils.data.Dataset):\n",
    "\n",
    "    def __init__(self, features, labels, device=torch.device(\"cpu\")):\n",
    "        self.features = torch.tensor(features, dtype = torch.float32).to(device)\n",
    "        self.labels = torch.tensor(labels, dtype = torch.float32).to(device)\n",
    "\n",
    "    def __len__(self):\n",
    "        return len(self.labels)\n",
    "\n",
    "    def __getitem__(self, ind):\n",
    "        return self.features[ind], self.labels[ind]"
   ]
  },
  {
   "cell_type": "code",
   "execution_count": 440,
   "id": "43f7185f",
   "metadata": {},
   "outputs": [
    {
     "name": "stderr",
     "output_type": "stream",
     "text": [
      "/var/folders/2z/1mq4rcvj0f75_rlwvf4546gc0000gn/T/ipykernel_11158/3082938681.py:9: FutureWarning: Series.__getitem__ treating keys as positions is deprecated. In a future version, integer keys will always be treated as labels (consistent with DataFrame behavior). To access a value by position, use `ser.iloc[pos]`\n",
      "  self.labels = torch.tensor(labels, dtype = torch.float32).to(device)\n"
     ]
    }
   ],
   "source": [
    "import torch.utils\n",
    "import torch.utils.data\n",
    "import torch.nn.functional\n",
    "\n",
    "device = torch.device(\"mps\")\n",
    "train_dataset = MyDataset(X_train, y_train, device)\n",
    "test_dataset = MyDataset(X_test, y_test, device)\n",
    "\n",
    "train_loader = torch.utils.data.DataLoader(train_dataset, batch_size=512, shuffle=True)\n",
    "test_loader = torch.utils.data.DataLoader(test_dataset, batch_size=256, shuffle=False)"
   ]
  },
  {
   "cell_type": "markdown",
   "id": "6fb6718c",
   "metadata": {},
   "source": [
    "## Архитектура нашей нейронной сети и ее обучение"
   ]
  },
  {
   "cell_type": "code",
   "execution_count": 441,
   "id": "43c860d7",
   "metadata": {},
   "outputs": [],
   "source": [
    "import torch\n",
    "import torch.nn as nn\n",
    "import torch.optim as optim\n",
    "\n",
    "class RecognizeNet(nn.Module):\n",
    "    def __init__(self):\n",
    "        super(RecognizeNet, self).__init__()\n",
    "        self.layer1 = nn.Linear(6 + N_MFCCS, 100)\n",
    "        self.act1 = nn.ReLU()\n",
    "        self.dropout1 = nn.Dropout(0.5)  # Dropout для первого слоя\n",
    "\n",
    "        self.layer2 = nn.Linear(100, 200)\n",
    "        self.act2 = nn.ReLU()\n",
    "        self.dropout2 = nn.Dropout(0.5)  # Dropout для второго слоя\n",
    "\n",
    "        self.layer3 = nn.Linear(200, 100)\n",
    "        self.act3 = nn.ReLU()\n",
    "        self.dropout3 = nn.Dropout(0.5)  # Dropout для третьего слоя\n",
    "\n",
    "        self.layer4 = nn.Linear(100, 50)\n",
    "        self.act4 = nn.ReLU()\n",
    "        self.dropout4 = nn.Dropout(0.5)  # Dropout для четвертого слоя\n",
    "\n",
    "        self.layer5 = nn.Linear(50, 1)\n",
    "        self.sigmoid = nn.Sigmoid()\n",
    "\n",
    "    def forward(self, x):\n",
    "        x = self.layer1(x)\n",
    "        x = self.act1(x)\n",
    "\n",
    "        x = self.layer2(x)\n",
    "        x = self.act2(x)\n",
    "        x = self.dropout2(x)\n",
    "\n",
    "        x = self.layer3(x)\n",
    "        x = self.act3(x)\n",
    "\n",
    "        x = self.layer4(x)\n",
    "        x = self.act4(x)\n",
    "        x = self.dropout4(x)\n",
    "\n",
    "        x = self.layer5(x)\n",
    "        x = self.sigmoid(x)\n",
    "        return x"
   ]
  },
  {
   "cell_type": "code",
   "execution_count": 450,
   "id": "56dcd183",
   "metadata": {},
   "outputs": [],
   "source": [
    "# Пример создания модели и задания оптимизатора с L2-регуляризацией\n",
    "model = RecognizeNet()\n",
    "model.to(device)\n",
    "criterion = nn.BCELoss()  # Предполагаем, что решаем задачу бинарной классификации\n",
    "optimizer = optim.Adam(model.parameters(), lr=0.0002)  # weight_decay добавляет L2-регуляризацию\n",
    "total_epochs = 0"
   ]
  },
  {
   "cell_type": "code",
   "execution_count": 453,
   "id": "75c66a49",
   "metadata": {
    "scrolled": true
   },
   "outputs": [
    {
     "name": "stderr",
     "output_type": "stream",
     "text": [
      "Epoch [6300/7000], Loss: 0.0000, Accuracy: 100.00%: 100%|██████████| 1400/1400 [05:30<00:00,  4.24it/s]\n"
     ]
    }
   ],
   "source": [
    "total_step = len(train_loader)\n",
    "epochs = 1400\n",
    "loss_fn = nn.BCELoss()\n",
    "acc_list = []\n",
    "pbar = tqdm.tqdm(range(epochs))\n",
    "for epoch in pbar:\n",
    "    for i, batch in enumerate(train_loader):\n",
    "\n",
    "        x, y = batch\n",
    "        preds = model(x).squeeze()\n",
    "        loss = loss_fn(preds, y)\n",
    "        loss.backward()\n",
    "        optimizer.step()\n",
    "        optimizer.zero_grad()\n",
    "\n",
    "        total = y.size(0)\n",
    "        predicted = (torch.flatten((preds.data > 0.5)))\n",
    "        true = y\n",
    "        correct = (predicted == true).sum().item()\n",
    "        acc_list.append(correct / total)\n",
    "    total_epochs += 1\n",
    "    if (epoch + 1) % 10 == 0:\n",
    "        pbar.set_description('Epoch [{}/{}], Loss: {:.4f}, Accuracy: {:.2f}%'\n",
    "                .format(total_epochs, (total_epochs // epochs + 1) * epochs, loss.item(),\n",
    "                        (correct / total) * 100))"
   ]
  },
  {
   "cell_type": "markdown",
   "id": "acd533b9",
   "metadata": {},
   "source": [
    "## Тестирование нашей нейронки"
   ]
  },
  {
   "cell_type": "code",
   "execution_count": 454,
   "id": "ad5709e7",
   "metadata": {},
   "outputs": [
    {
     "name": "stdout",
     "output_type": "stream",
     "text": [
      "Test Accuracy of the model on the test data: 55.02555366269165 %\n"
     ]
    }
   ],
   "source": [
    "model.eval()\n",
    "with torch.no_grad():\n",
    "    correct = 0\n",
    "    total = 0\n",
    "    for x, y in test_loader:\n",
    "        y_pred = model(x)\n",
    "        predicted = (torch.flatten((F.sigmoid(y_pred.data) > 0.5)))\n",
    "        total += y.size(0)\n",
    "        correct += (predicted == y).sum().item()\n",
    "\n",
    "    print('Test Accuracy of the model on the test data: {} %'.format((correct / total) * 100))"
   ]
  },
  {
   "cell_type": "markdown",
   "id": "d47c33b8",
   "metadata": {},
   "source": [
    "# Submission"
   ]
  },
  {
   "cell_type": "code",
   "execution_count": 8,
   "id": "938a10ca",
   "metadata": {},
   "outputs": [
    {
     "ename": "NameError",
     "evalue": "name 'model' is not defined",
     "output_type": "error",
     "traceback": [
      "\u001b[0;31m---------------------------------------------------------------------------\u001b[0m",
      "\u001b[0;31mNameError\u001b[0m                                 Traceback (most recent call last)",
      "Cell \u001b[0;32mIn[8], line 6\u001b[0m\n\u001b[1;32m      2\u001b[0m sample_submission \u001b[38;5;241m=\u001b[39m pd\u001b[38;5;241m.\u001b[39mread_csv(\u001b[38;5;124m\"\u001b[39m\u001b[38;5;124mtest.csv\u001b[39m\u001b[38;5;124m\"\u001b[39m, header\u001b[38;5;241m=\u001b[39m\u001b[38;5;28;01mNone\u001b[39;00m)\n\u001b[1;32m      3\u001b[0m sample_submission\u001b[38;5;241m.\u001b[39mcolumns \u001b[38;5;241m=\u001b[39m [\u001b[38;5;124m'\u001b[39m\u001b[38;5;124mFilename\u001b[39m\u001b[38;5;124m'\u001b[39m, \u001b[38;5;124m'\u001b[39m\u001b[38;5;124mLabel\u001b[39m\u001b[38;5;124m'\u001b[39m]\n\u001b[0;32m----> 6\u001b[0m \u001b[43mmodel\u001b[49m\u001b[38;5;241m.\u001b[39meval()\n\u001b[1;32m      7\u001b[0m \u001b[38;5;28;01mwith\u001b[39;00m torch\u001b[38;5;241m.\u001b[39mno_grad():\n\u001b[1;32m      8\u001b[0m     results \u001b[38;5;241m=\u001b[39m model(torch\u001b[38;5;241m.\u001b[39mFloatTensor(data_scoring\u001b[38;5;241m.\u001b[39mvalues)\u001b[38;5;241m.\u001b[39mto(device))\u001b[38;5;241m.\u001b[39mcpu()\u001b[38;5;241m.\u001b[39msqueeze()\n",
      "\u001b[0;31mNameError\u001b[0m: name 'model' is not defined"
     ]
    }
   ],
   "source": [
    "data_scoring = pd.read_csv(\"test_dataset.csv\", index_col=0)\n",
    "sample_submission = pd.read_csv(\"test.csv\", header=None)\n",
    "sample_submission.columns = ['Filename', 'Label']\n",
    "\n",
    "\n",
    "model.eval()\n",
    "with torch.no_grad():\n",
    "    results = model(torch.FloatTensor(data_scoring.values).to(device)).cpu().squeeze()\n",
    "\n",
    "\n",
    "submission = pd.DataFrame({\"Filename\": data_scoring.index, \"Label\": pd.Series(results).astype(int)})\n",
    "submission = submission.sort_values(by=\"Filename\")\n",
    "#ВСЕ ОК)))\n",
    "\n",
    "sample_submission = sample_submission.sort_values(by=\"Filename\")\n",
    "sample_submission[\"Label\"] = submission[\"Label\"]\n",
    "sample_submission = sample_submission.sort_index()\n",
    "\n",
    "\n",
    "sample_submission.to_csv(\"submission.csv\", index=False, header=False)"
   ]
  },
  {
   "cell_type": "code",
   "execution_count": null,
   "id": "3e5a0b71",
   "metadata": {},
   "outputs": [],
   "source": []
  }
 ],
 "metadata": {
  "kernelspec": {
   "display_name": "Python 3 (ipykernel)",
   "language": "python",
   "name": "python3"
  },
  "language_info": {
   "codemirror_mode": {
    "name": "ipython",
    "version": 3
   },
   "file_extension": ".py",
   "mimetype": "text/x-python",
   "name": "python",
   "nbconvert_exporter": "python",
   "pygments_lexer": "ipython3",
   "version": "3.11.5"
  }
 },
 "nbformat": 4,
 "nbformat_minor": 5
}
