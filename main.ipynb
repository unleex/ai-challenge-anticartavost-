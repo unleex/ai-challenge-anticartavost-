{
 "cells": [
  {
   "cell_type": "markdown",
   "id": "e927453b",
   "metadata": {},
   "source": [
    "## Подключение всех необходимых библиотек"
   ]
  },
  {
   "cell_type": "code",
   "execution_count": 2,
   "id": "659dba7f",
   "metadata": {},
   "outputs": [],
   "source": [
    "import librosa\n",
    "import tqdm\n",
    "import os\n",
    "\n",
    "import numpy as np\n",
    "import pandas as pd\n",
    "\n",
    "from torch import nn\n",
    "from torch.functional import F\n",
    "from sklearn.model_selection import train_test_split\n",
    "from sklearn.preprocessing import StandardScaler\n",
    "from sklearn.decomposition import PCA\n",
    "from sklearn.metrics import f1_score\n",
    "import matplotlib.pyplot as plt"
   ]
  },
  {
   "cell_type": "markdown",
   "id": "3a478508",
   "metadata": {},
   "source": [
    "# Hyperparameters"
   ]
  },
  {
   "cell_type": "code",
   "execution_count": 12,
   "id": "727bd37c",
   "metadata": {},
   "outputs": [],
   "source": [
    "N_MFCCS = 25"
   ]
  },
  {
   "cell_type": "markdown",
   "id": "ae32041f",
   "metadata": {},
   "source": [
    "# Обработка аудио файлов и создание csv файла (датасета) с признаками"
   ]
  },
  {
   "cell_type": "code",
   "execution_count": 19,
   "id": "938e4790",
   "metadata": {},
   "outputs": [
    {
     "data": {
      "text/plain": [
       "'mfcc0 mfcc1 mfcc2 mfcc3 mfcc4 mfcc5 mfcc6 mfcc7 mfcc8 mfcc9 mfcc10 mfcc11 mfcc12 mfcc13 mfcc14 mfcc15 mfcc16 mfcc17 mfcc18 mfcc19 mfcc20 mfcc21 mfcc22 mfcc23 mfcc24'"
      ]
     },
     "execution_count": 19,
     "metadata": {},
     "output_type": "execute_result"
    }
   ],
   "source": [
    "#header = 'chroma_stft rms spectral_centroid spectral_bandwidth rolloff zero_crossing_rate'\n",
    "header = ''\n",
    "for i in range(N_MFCCS):\n",
    "    header += f' mfcc{i}'\n",
    "header = header.lstrip()\n",
    "header"
   ]
  },
  {
   "cell_type": "markdown",
   "id": "5b624dcc",
   "metadata": {},
   "source": [
    "## 1. Заполнение csv файла данными"
   ]
  },
  {
   "cell_type": "code",
   "execution_count": 22,
   "id": "fc77f34a",
   "metadata": {},
   "outputs": [],
   "source": [
    "# Функция для извлечения признаков\n",
    "def extract_features(folder, filename):\n",
    "    songname = os.path.join(folder, filename)\n",
    "    y, sr = librosa.load(songname, mono=True)\n",
    "    # rms = librosa.feature.rms(y=y)\n",
    "    # chroma_stft = librosa.feature.chroma_stft(y=y, sr=sr)\n",
    "    # spec_cent = librosa.feature.spectral_centroid(y=y, sr=sr)\n",
    "    # spec_bw = librosa.feature.spectral_bandwidth(y=y, sr=sr)\n",
    "    # rolloff = librosa.feature.spectral_rolloff(y=y, sr=sr)\n",
    "    # zcr = librosa.feature.zero_crossing_rate(y)\n",
    "    mfcc = librosa.feature.mfcc(y=y, sr=sr, n_mfcc=N_MFCCS)\n",
    "\n",
    "    # feature_row_data = [np.mean(chroma_stft), np.mean(rms), np.mean(spec_cent), np.mean(spec_bw), np.mean(rolloff), np.mean(zcr)]\n",
    "    feature_row_data = []\n",
    "    for e in mfcc:\n",
    "        feature_row_data.append(np.mean(e))\n",
    "\n",
    "    feature_row_data.append(folder == 'burr_audio')\n",
    "    return feature_row_data"
   ]
  },
  {
   "cell_type": "code",
   "execution_count": 23,
   "id": "a3175f6d",
   "metadata": {
    "scrolled": false
   },
   "outputs": [
    {
     "name": "stderr",
     "output_type": "stream",
     "text": [
      "burr_audio:   0%|          | 30/7818 [00:02<06:38, 19.53it/s] /Users/jafarkor/GitHub/ai-challenge-anticartavost-/venv/lib/python3.11/site-packages/librosa/core/spectrum.py:266: UserWarning: n_fft=2048 is too large for input signal of length=0\n",
      "  warnings.warn(\n",
      "burr_audio:   1%|          | 93/7818 [00:02<01:44, 74.07it/s]/Users/jafarkor/GitHub/ai-challenge-anticartavost-/venv/lib/python3.11/site-packages/librosa/core/spectrum.py:266: UserWarning: n_fft=2048 is too large for input signal of length=0\n",
      "  warnings.warn(\n",
      "burr_audio:   5%|▌         | 415/7818 [00:03<00:24, 306.87it/s]/Users/jafarkor/GitHub/ai-challenge-anticartavost-/venv/lib/python3.11/site-packages/librosa/core/spectrum.py:266: UserWarning: n_fft=2048 is too large for input signal of length=0\n",
      "  warnings.warn(\n",
      "burr_audio:   7%|▋         | 582/7818 [00:03<00:22, 321.98it/s]/Users/jafarkor/GitHub/ai-challenge-anticartavost-/venv/lib/python3.11/site-packages/librosa/core/spectrum.py:266: UserWarning: n_fft=2048 is too large for input signal of length=0\n",
      "  warnings.warn(\n",
      "burr_audio:  13%|█▎        | 983/7818 [00:05<00:20, 333.39it/s]/Users/jafarkor/GitHub/ai-challenge-anticartavost-/venv/lib/python3.11/site-packages/librosa/core/spectrum.py:266: UserWarning: n_fft=2048 is too large for input signal of length=0\n",
      "  warnings.warn(\n",
      "burr_audio:  14%|█▍        | 1084/7818 [00:05<00:21, 320.18it/s]/Users/jafarkor/GitHub/ai-challenge-anticartavost-/venv/lib/python3.11/site-packages/librosa/core/spectrum.py:266: UserWarning: n_fft=2048 is too large for input signal of length=0\n",
      "  warnings.warn(\n",
      "burr_audio:  14%|█▍        | 1117/7818 [00:05<00:21, 317.57it/s]/Users/jafarkor/GitHub/ai-challenge-anticartavost-/venv/lib/python3.11/site-packages/librosa/core/spectrum.py:266: UserWarning: n_fft=2048 is too large for input signal of length=0\n",
      "  warnings.warn(\n",
      "burr_audio:  17%|█▋        | 1367/7818 [00:06<00:21, 299.23it/s]/Users/jafarkor/GitHub/ai-challenge-anticartavost-/venv/lib/python3.11/site-packages/librosa/core/spectrum.py:266: UserWarning: n_fft=2048 is too large for input signal of length=0\n",
      "  warnings.warn(\n",
      "burr_audio:  18%|█▊        | 1430/7818 [00:06<00:20, 304.39it/s]/Users/jafarkor/GitHub/ai-challenge-anticartavost-/venv/lib/python3.11/site-packages/librosa/core/spectrum.py:266: UserWarning: n_fft=2048 is too large for input signal of length=0\n",
      "  warnings.warn(\n",
      "burr_audio:  19%|█▉        | 1524/7818 [00:06<00:20, 304.54it/s]/Users/jafarkor/GitHub/ai-challenge-anticartavost-/venv/lib/python3.11/site-packages/librosa/core/spectrum.py:266: UserWarning: n_fft=2048 is too large for input signal of length=0\n",
      "  warnings.warn(\n",
      "burr_audio:  24%|██▍       | 1915/7818 [00:08<00:18, 317.78it/s]/Users/jafarkor/GitHub/ai-challenge-anticartavost-/venv/lib/python3.11/site-packages/librosa/core/spectrum.py:266: UserWarning: n_fft=2048 is too large for input signal of length=0\n",
      "  warnings.warn(\n",
      "burr_audio:  34%|███▍      | 2641/7818 [00:10<00:17, 299.93it/s]/Users/jafarkor/GitHub/ai-challenge-anticartavost-/venv/lib/python3.11/site-packages/librosa/core/spectrum.py:266: UserWarning: n_fft=2048 is too large for input signal of length=0\n",
      "  warnings.warn(\n",
      "burr_audio:  37%|███▋      | 2859/7818 [00:11<00:16, 299.41it/s]/Users/jafarkor/GitHub/ai-challenge-anticartavost-/venv/lib/python3.11/site-packages/librosa/core/spectrum.py:266: UserWarning: n_fft=2048 is too large for input signal of length=0\n",
      "  warnings.warn(\n",
      "burr_audio:  38%|███▊      | 2984/7818 [00:11<00:16, 300.74it/s]/Users/jafarkor/GitHub/ai-challenge-anticartavost-/venv/lib/python3.11/site-packages/librosa/core/spectrum.py:266: UserWarning: n_fft=2048 is too large for input signal of length=0\n",
      "  warnings.warn(\n",
      "burr_audio:  41%|████      | 3198/7818 [00:12<00:15, 300.89it/s]/Users/jafarkor/GitHub/ai-challenge-anticartavost-/venv/lib/python3.11/site-packages/librosa/core/spectrum.py:266: UserWarning: n_fft=2048 is too large for input signal of length=0\n",
      "  warnings.warn(\n",
      "burr_audio:  41%|████▏     | 3229/7818 [00:12<00:15, 300.51it/s]/Users/jafarkor/GitHub/ai-challenge-anticartavost-/venv/lib/python3.11/site-packages/librosa/core/spectrum.py:266: UserWarning: n_fft=2048 is too large for input signal of length=0\n",
      "  warnings.warn(\n",
      "burr_audio:  51%|█████     | 4001/7818 [00:15<00:13, 287.43it/s]/Users/jafarkor/GitHub/ai-challenge-anticartavost-/venv/lib/python3.11/site-packages/librosa/core/spectrum.py:266: UserWarning: n_fft=2048 is too large for input signal of length=0\n",
      "  warnings.warn(\n",
      "burr_audio:  52%|█████▏    | 4060/7818 [00:15<00:13, 287.79it/s]/Users/jafarkor/GitHub/ai-challenge-anticartavost-/venv/lib/python3.11/site-packages/librosa/core/spectrum.py:266: UserWarning: n_fft=2048 is too large for input signal of length=0\n",
      "  warnings.warn(\n",
      "burr_audio:  62%|██████▏   | 4818/7818 [00:18<00:12, 247.17it/s]/Users/jafarkor/GitHub/ai-challenge-anticartavost-/venv/lib/python3.11/site-packages/librosa/core/spectrum.py:266: UserWarning: n_fft=2048 is too large for input signal of length=0\n",
      "  warnings.warn(\n",
      "burr_audio:  70%|██████▉   | 5439/7818 [00:20<00:09, 263.05it/s]/Users/jafarkor/GitHub/ai-challenge-anticartavost-/venv/lib/python3.11/site-packages/librosa/core/spectrum.py:266: UserWarning: n_fft=2048 is too large for input signal of length=0\n",
      "  warnings.warn(\n",
      "burr_audio:  81%|████████  | 6310/7818 [00:23<00:06, 250.02it/s]/Users/jafarkor/GitHub/ai-challenge-anticartavost-/venv/lib/python3.11/site-packages/librosa/core/spectrum.py:266: UserWarning: n_fft=2048 is too large for input signal of length=0\n",
      "  warnings.warn(\n",
      "burr_audio:  87%|████████▋ | 6773/7818 [00:25<00:04, 248.66it/s]/Users/jafarkor/GitHub/ai-challenge-anticartavost-/venv/lib/python3.11/site-packages/librosa/core/spectrum.py:266: UserWarning: n_fft=2048 is too large for input signal of length=0\n",
      "  warnings.warn(\n",
      "burr_audio: 100%|██████████| 7818/7818 [00:30<00:00, 259.53it/s]\n",
      "normal_audio:   4%|▍         | 580/15166 [00:02<01:05, 221.83it/s]/Users/jafarkor/GitHub/ai-challenge-anticartavost-/venv/lib/python3.11/site-packages/librosa/core/spectrum.py:266: UserWarning: n_fft=2048 is too large for input signal of length=0\n",
      "  warnings.warn(\n",
      "normal_audio:   6%|▌         | 900/15166 [00:04<01:05, 218.49it/s]/Users/jafarkor/GitHub/ai-challenge-anticartavost-/venv/lib/python3.11/site-packages/librosa/core/spectrum.py:266: UserWarning: n_fft=2048 is too large for input signal of length=0\n",
      "  warnings.warn(\n",
      "normal_audio:   8%|▊         | 1275/15166 [00:05<01:04, 216.30it/s]/Users/jafarkor/GitHub/ai-challenge-anticartavost-/venv/lib/python3.11/site-packages/librosa/core/spectrum.py:266: UserWarning: n_fft=2048 is too large for input signal of length=0\n",
      "  warnings.warn(\n",
      "normal_audio:  11%|█         | 1629/15166 [00:07<01:03, 214.05it/s]/Users/jafarkor/GitHub/ai-challenge-anticartavost-/venv/lib/python3.11/site-packages/librosa/core/spectrum.py:266: UserWarning: n_fft=2048 is too large for input signal of length=0\n",
      "  warnings.warn(\n",
      "normal_audio:  20%|██        | 3103/15166 [00:14<00:59, 201.78it/s]/Users/jafarkor/GitHub/ai-challenge-anticartavost-/venv/lib/python3.11/site-packages/librosa/core/spectrum.py:266: UserWarning: n_fft=2048 is too large for input signal of length=0\n",
      "  warnings.warn(\n",
      "normal_audio:  23%|██▎       | 3447/15166 [00:16<00:55, 210.27it/s]/Users/jafarkor/GitHub/ai-challenge-anticartavost-/venv/lib/python3.11/site-packages/librosa/core/spectrum.py:266: UserWarning: n_fft=2048 is too large for input signal of length=0\n",
      "  warnings.warn(\n",
      "normal_audio:  25%|██▍       | 3723/15166 [00:17<00:55, 204.59it/s]/Users/jafarkor/GitHub/ai-challenge-anticartavost-/venv/lib/python3.11/site-packages/librosa/core/spectrum.py:266: UserWarning: n_fft=2048 is too large for input signal of length=0\n",
      "  warnings.warn(\n",
      "normal_audio:  25%|██▍       | 3766/15166 [00:18<00:54, 207.73it/s]/Users/jafarkor/GitHub/ai-challenge-anticartavost-/venv/lib/python3.11/site-packages/librosa/core/spectrum.py:266: UserWarning: n_fft=2048 is too large for input signal of length=0\n",
      "  warnings.warn(\n",
      "normal_audio:  32%|███▏      | 4798/15166 [00:23<00:53, 193.15it/s]/Users/jafarkor/GitHub/ai-challenge-anticartavost-/venv/lib/python3.11/site-packages/librosa/core/spectrum.py:266: UserWarning: n_fft=2048 is too large for input signal of length=0\n",
      "  warnings.warn(\n",
      "normal_audio:  46%|████▌     | 7009/15166 [00:36<00:50, 160.98it/s]/Users/jafarkor/GitHub/ai-challenge-anticartavost-/venv/lib/python3.11/site-packages/librosa/core/spectrum.py:266: UserWarning: n_fft=2048 is too large for input signal of length=0\n",
      "  warnings.warn(\n",
      "normal_audio:  48%|████▊     | 7345/15166 [00:38<00:49, 159.60it/s]/Users/jafarkor/GitHub/ai-challenge-anticartavost-/venv/lib/python3.11/site-packages/librosa/core/spectrum.py:266: UserWarning: n_fft=2048 is too large for input signal of length=0\n",
      "  warnings.warn(\n",
      "normal_audio:  49%|████▉     | 7481/15166 [00:38<00:47, 160.12it/s]/Users/jafarkor/GitHub/ai-challenge-anticartavost-/venv/lib/python3.11/site-packages/librosa/core/spectrum.py:266: UserWarning: n_fft=2048 is too large for input signal of length=0\n",
      "  warnings.warn(\n",
      "normal_audio:  51%|█████     | 7676/15166 [00:40<00:47, 157.21it/s]/Users/jafarkor/GitHub/ai-challenge-anticartavost-/venv/lib/python3.11/site-packages/librosa/core/spectrum.py:266: UserWarning: n_fft=2048 is too large for input signal of length=0\n",
      "  warnings.warn(\n",
      "normal_audio:  53%|█████▎    | 8082/15166 [00:42<00:45, 155.40it/s]/Users/jafarkor/GitHub/ai-challenge-anticartavost-/venv/lib/python3.11/site-packages/librosa/core/spectrum.py:266: UserWarning: n_fft=2048 is too large for input signal of length=0\n",
      "  warnings.warn(\n",
      "normal_audio:  60%|█████▉    | 9062/15166 [00:49<00:42, 145.06it/s]/Users/jafarkor/GitHub/ai-challenge-anticartavost-/venv/lib/python3.11/site-packages/librosa/core/spectrum.py:266: UserWarning: n_fft=2048 is too large for input signal of length=0\n",
      "  warnings.warn(\n",
      "normal_audio:  61%|██████    | 9244/15166 [00:50<00:41, 143.61it/s]/Users/jafarkor/GitHub/ai-challenge-anticartavost-/venv/lib/python3.11/site-packages/librosa/core/spectrum.py:266: UserWarning: n_fft=2048 is too large for input signal of length=0\n",
      "  warnings.warn(\n",
      "normal_audio:  66%|██████▋   | 10080/15166 [00:56<00:36, 139.18it/s]/Users/jafarkor/GitHub/ai-challenge-anticartavost-/venv/lib/python3.11/site-packages/librosa/core/spectrum.py:266: UserWarning: n_fft=2048 is too large for input signal of length=0\n",
      "  warnings.warn(\n",
      "normal_audio:  67%|██████▋   | 10211/15166 [00:57<00:34, 141.70it/s]/Users/jafarkor/GitHub/ai-challenge-anticartavost-/venv/lib/python3.11/site-packages/librosa/core/spectrum.py:266: UserWarning: n_fft=2048 is too large for input signal of length=0\n",
      "  warnings.warn(\n",
      "normal_audio:  71%|███████   | 10734/15166 [01:01<00:32, 134.74it/s]/Users/jafarkor/GitHub/ai-challenge-anticartavost-/venv/lib/python3.11/site-packages/librosa/core/spectrum.py:266: UserWarning: n_fft=2048 is too large for input signal of length=0\n",
      "  warnings.warn(\n",
      "normal_audio:  77%|███████▋  | 11643/15166 [01:08<00:27, 129.97it/s]/Users/jafarkor/GitHub/ai-challenge-anticartavost-/venv/lib/python3.11/site-packages/librosa/core/spectrum.py:266: UserWarning: n_fft=2048 is too large for input signal of length=0\n",
      "  warnings.warn(\n",
      "normal_audio:  77%|███████▋  | 11753/15166 [01:09<00:25, 131.43it/s]/Users/jafarkor/GitHub/ai-challenge-anticartavost-/venv/lib/python3.11/site-packages/librosa/core/spectrum.py:266: UserWarning: n_fft=2048 is too large for input signal of length=0\n",
      "  warnings.warn(\n",
      "normal_audio:  81%|████████  | 12245/15166 [01:12<00:22, 129.30it/s]/Users/jafarkor/GitHub/ai-challenge-anticartavost-/venv/lib/python3.11/site-packages/librosa/core/spectrum.py:266: UserWarning: n_fft=2048 is too large for input signal of length=0\n",
      "  warnings.warn(\n",
      "normal_audio:  82%|████████▏ | 12363/15166 [01:13<00:22, 127.18it/s]/Users/jafarkor/GitHub/ai-challenge-anticartavost-/venv/lib/python3.11/site-packages/librosa/core/spectrum.py:266: UserWarning: n_fft=2048 is too large for input signal of length=0\n",
      "  warnings.warn(\n",
      "normal_audio:  84%|████████▍ | 12779/15166 [01:17<00:19, 124.39it/s]/Users/jafarkor/GitHub/ai-challenge-anticartavost-/venv/lib/python3.11/site-packages/librosa/core/spectrum.py:266: UserWarning: n_fft=2048 is too large for input signal of length=0\n",
      "  warnings.warn(\n",
      "normal_audio:  85%|████████▍ | 12844/15166 [01:17<00:18, 125.63it/s]/Users/jafarkor/GitHub/ai-challenge-anticartavost-/venv/lib/python3.11/site-packages/librosa/core/spectrum.py:266: UserWarning: n_fft=2048 is too large for input signal of length=0\n",
      "  warnings.warn(\n",
      "normal_audio:  90%|████████▉ | 13637/15166 [01:24<00:12, 120.45it/s]/Users/jafarkor/GitHub/ai-challenge-anticartavost-/venv/lib/python3.11/site-packages/librosa/core/spectrum.py:266: UserWarning: n_fft=2048 is too large for input signal of length=0\n",
      "  warnings.warn(\n",
      "normal_audio:  90%|█████████ | 13689/15166 [01:24<00:12, 119.97it/s]/Users/jafarkor/GitHub/ai-challenge-anticartavost-/venv/lib/python3.11/site-packages/librosa/core/spectrum.py:266: UserWarning: n_fft=2048 is too large for input signal of length=0\n",
      "  warnings.warn(\n",
      "normal_audio:  92%|█████████▏| 14012/15166 [01:27<00:09, 119.90it/s]/Users/jafarkor/GitHub/ai-challenge-anticartavost-/venv/lib/python3.11/site-packages/librosa/core/spectrum.py:266: UserWarning: n_fft=2048 is too large for input signal of length=0\n",
      "  warnings.warn(\n",
      "normal_audio:  96%|█████████▌| 14564/15166 [01:32<00:05, 117.95it/s]/Users/jafarkor/GitHub/ai-challenge-anticartavost-/venv/lib/python3.11/site-packages/librosa/core/spectrum.py:266: UserWarning: n_fft=2048 is too large for input signal of length=0\n",
      "  warnings.warn(\n",
      "normal_audio:  97%|█████████▋| 14744/15166 [01:33<00:03, 115.12it/s]/Users/jafarkor/GitHub/ai-challenge-anticartavost-/venv/lib/python3.11/site-packages/librosa/core/spectrum.py:266: UserWarning: n_fft=2048 is too large for input signal of length=0\n",
      "  warnings.warn(\n",
      "normal_audio:  98%|█████████▊| 14816/15166 [01:34<00:02, 117.20it/s]/Users/jafarkor/GitHub/ai-challenge-anticartavost-/venv/lib/python3.11/site-packages/librosa/core/spectrum.py:266: UserWarning: n_fft=2048 is too large for input signal of length=0\n",
      "  warnings.warn(\n",
      "normal_audio: 100%|██████████| 15166/15166 [01:37<00:00, 156.03it/s]\n"
     ]
    }
   ],
   "source": [
    "count = 0\n",
    "if not os.path.exists('train_dataset.csv') or \\\n",
    "    pd.read_csv('train_dataset.csv').shape[1] - (6 + 1 + 1) != N_MFCCS: # other features + name + label\n",
    "    columns = (header + \" label\").split()\n",
    "    features = pd.DataFrame(columns=columns)\n",
    "    for folder in ['burr_audio', 'normal_audio']:\n",
    "        for filename in tqdm.tqdm(os.listdir(folder), desc=folder):\n",
    "            try:\n",
    "                features.loc[filename] = pd.Series(extract_features(folder, filename), index=columns)\n",
    "            except Exception as k:\n",
    "                count += 1\n",
    "    features.to_csv('train_dataset.csv')"
   ]
  },
  {
   "cell_type": "code",
   "execution_count": 24,
   "id": "b7f23c79",
   "metadata": {},
   "outputs": [
    {
     "name": "stdout",
     "output_type": "stream",
     "text": [
      "0\n"
     ]
    }
   ],
   "source": [
    "print(count)"
   ]
  },
  {
   "cell_type": "markdown",
   "id": "9db8d5ea",
   "metadata": {},
   "source": [
    "## Обработка датасета и разделение на тренировочную и тестовую выборки"
   ]
  },
  {
   "cell_type": "code",
   "execution_count": 25,
   "id": "3b394888",
   "metadata": {},
   "outputs": [],
   "source": [
    "df = pd.read_csv(\"train_dataset.csv\", index_col=0)\n",
    "X = df.drop(columns=[\"label\"])\n",
    "y = df[\"label\"]\n",
    "X_train, X_test, y_train, y_test = train_test_split(X, y, test_size=0.2, random_state=42)\n"
   ]
  },
  {
   "cell_type": "markdown",
   "id": "c44d9dc9",
   "metadata": {},
   "source": [
    "### Масштабирование признаков"
   ]
  },
  {
   "cell_type": "code",
   "execution_count": 26,
   "id": "5f061656",
   "metadata": {},
   "outputs": [],
   "source": [
    "scaler = StandardScaler()\n",
    "X_train = scaler.fit_transform(X_train)\n",
    "X_test = scaler.transform(X_test)"
   ]
  },
  {
   "cell_type": "code",
   "execution_count": 27,
   "id": "db4bc3f9",
   "metadata": {},
   "outputs": [
    {
     "data": {
      "text/plain": [
       "'pca = PCA(n_components=9)\\nX_train = pca.fit_transform(X_train)\\nX_test = pca.transform(X_test)'"
      ]
     },
     "execution_count": 27,
     "metadata": {},
     "output_type": "execute_result"
    }
   ],
   "source": [
    "\"\"\"pca = PCA(n_components=9)\n",
    "X_train = pca.fit_transform(X_train)\n",
    "X_test = pca.transform(X_test)\"\"\""
   ]
  },
  {
   "cell_type": "code",
   "execution_count": 28,
   "id": "289a3aa7",
   "metadata": {},
   "outputs": [],
   "source": [
    "import torch.utils\n",
    "import torch.utils.data\n",
    "\n",
    "\n",
    "class MyDataset(torch.utils.data.Dataset):\n",
    "\n",
    "    def __init__(self, features, labels, device=torch.device(\"cpu\")):\n",
    "        self.features = torch.tensor(features, dtype = torch.float32).to(device)\n",
    "        self.labels = torch.tensor(labels, dtype = torch.float32).to(device)\n",
    "\n",
    "    def __len__(self):\n",
    "        return len(self.labels)\n",
    "\n",
    "    def __getitem__(self, ind):\n",
    "        return self.features[ind], self.labels[ind]"
   ]
  },
  {
   "cell_type": "code",
   "execution_count": 29,
   "id": "43f7185f",
   "metadata": {},
   "outputs": [
    {
     "name": "stderr",
     "output_type": "stream",
     "text": [
      "/var/folders/2z/1mq4rcvj0f75_rlwvf4546gc0000gn/T/ipykernel_37831/3082938681.py:9: FutureWarning: Series.__getitem__ treating keys as positions is deprecated. In a future version, integer keys will always be treated as labels (consistent with DataFrame behavior). To access a value by position, use `ser.iloc[pos]`\n",
      "  self.labels = torch.tensor(labels, dtype = torch.float32).to(device)\n"
     ]
    }
   ],
   "source": [
    "import torch.utils\n",
    "import torch.utils.data\n",
    "import torch.nn.functional\n",
    "\n",
    "device = torch.device(\"mps\")\n",
    "train_dataset = MyDataset(X_train, y_train, device)\n",
    "test_dataset = MyDataset(X_test, y_test, device)\n",
    "\n",
    "train_loader = torch.utils.data.DataLoader(train_dataset, batch_size=512, shuffle=True, drop_last=True)\n",
    "test_loader = torch.utils.data.DataLoader(test_dataset, batch_size=256, shuffle=False)"
   ]
  },
  {
   "cell_type": "markdown",
   "id": "6fb6718c",
   "metadata": {},
   "source": [
    "## Архитектура нашей нейронной сети и ее обучение"
   ]
  },
  {
   "cell_type": "code",
   "execution_count": 33,
   "id": "43c860d7",
   "metadata": {},
   "outputs": [],
   "source": [
    "import torch\n",
    "import torch.nn as nn\n",
    "import torch.optim as optim\n",
    "\n",
    "class RecognizeNet(nn.Module):\n",
    "    def __init__(self):\n",
    "        super(RecognizeNet, self).__init__()\n",
    "        self.layer1 = nn.Linear(N_MFCCS, 100)\n",
    "        self.act1 = nn.ReLU()\n",
    "        self.dropout1 = nn.Dropout(0.5)  # Dropout для первого слоя\n",
    "\n",
    "        self.layer2 = nn.Linear(100, 200)\n",
    "        self.act2 = nn.ReLU()\n",
    "        self.dropout2 = nn.Dropout(0.5)  # Dropout для второго слоя\n",
    "\n",
    "        self.layer3 = nn.Linear(200, 100)\n",
    "        self.act3 = nn.ReLU()\n",
    "        self.dropout3 = nn.Dropout(0.5)  # Dropout для третьего слоя\n",
    "\n",
    "        self.layer4 = nn.Linear(100, 50)\n",
    "        self.act4 = nn.ReLU()\n",
    "        self.dropout4 = nn.Dropout(0.5)  # Dropout для четвертого слоя\n",
    "\n",
    "        self.layer5 = nn.Linear(50, 1)\n",
    "        self.sigmoid = nn.Sigmoid()\n",
    "\n",
    "    def forward(self, x):\n",
    "        x = self.layer1(x)\n",
    "        x = self.act1(x)\n",
    "\n",
    "        x = self.layer2(x)\n",
    "        x = self.act2(x)\n",
    "        x = self.dropout2(x)\n",
    "\n",
    "        x = self.layer3(x)\n",
    "        x = self.act3(x)\n",
    "        x = self.dropout3(x)\n",
    "\n",
    "        x = self.layer4(x)\n",
    "        x = self.act4(x)\n",
    "        x = self.dropout4(x)\n",
    "\n",
    "        x = self.layer5(x)\n",
    "        x = self.sigmoid(x)\n",
    "        return x"
   ]
  },
  {
   "cell_type": "code",
   "execution_count": 46,
   "id": "56dcd183",
   "metadata": {},
   "outputs": [],
   "source": [
    "model = RecognizeNet()\n",
    "lr = 0.001\n",
    "model.to(device)\n",
    "criterion = nn.BCELoss()  # Предполагаем, что решаем задачу бинарной классификации\n",
    "optimizer = optim.Adam(model.parameters(), lr=lr)\n",
    "\n",
    "total_epochs = 0\n",
    "total_step = len(train_loader)\n",
    "\n",
    "loss_fn = nn.BCELoss()\n",
    "metric_list = []"
   ]
  },
  {
   "cell_type": "code",
   "execution_count": 47,
   "id": "75c66a49",
   "metadata": {
    "scrolled": true
   },
   "outputs": [
    {
     "name": "stderr",
     "output_type": "stream",
     "text": [
      "Epoch [300/600], Loss: 0.3506, F1_score: 0.64%: 100%|██████████| 300/300 [04:02<00:00,  1.23it/s]\n"
     ]
    }
   ],
   "source": [
    "epochs = 300\n",
    "pbar = tqdm.tqdm(range(epochs))\n",
    "train_losses = []\n",
    "val_losses = []\n",
    "\n",
    "for epoch in pbar:\n",
    "    model.train()\n",
    "    train_loss = 0\n",
    "    for i, batch in enumerate(train_loader):\n",
    "        x, y = batch\n",
    "        preds = model(x).squeeze()\n",
    "        loss = loss_fn(preds, y)\n",
    "        loss.backward()\n",
    "        optimizer.step()\n",
    "        optimizer.zero_grad()\n",
    "\n",
    "        total = y.size(0)\n",
    "        predicted = (torch.flatten((preds.data > 0.5)))\n",
    "        correct = (predicted == y).sum().item()\n",
    "        metric_list.append(f1_score(y.cpu(), predicted.cpu()))\n",
    "        train_loss += f1_score(y.cpu(), predicted.cpu())\n",
    "\n",
    "    train_loss /= len(train_loader)\n",
    "    train_losses.append(train_loss)\n",
    "\n",
    "    total_epochs += 1\n",
    "    if (epoch + 1) % 10 == 0:\n",
    "        pbar.set_description('Epoch [{}/{}], Loss: {:.4f}, F1_score: {:.2f}%'\n",
    "                .format(total_epochs, (total_epochs // epochs + 1) * epochs, loss.item(),\n",
    "                        sum(metric_list) / len(metric_list)))\n",
    "    # Проверка на валидационной выборке\n",
    "\n",
    "    model.eval()\n",
    "    val_loss = 0\n",
    "    with torch.no_grad():\n",
    "        for x, y in test_loader:\n",
    "            preds = model(x).squeeze()\n",
    "            predicted = (torch.flatten((preds.data > 0.5)))\n",
    "            val_loss += f1_score(y.cpu(), predicted.cpu())\n",
    "\n",
    "    val_loss /= len(test_loader)\n",
    "    val_losses.append(val_loss)"
   ]
  },
  {
   "cell_type": "code",
   "execution_count": 48,
   "id": "46fe4b86",
   "metadata": {},
   "outputs": [
    {
     "data": {
      "image/png": "[encoded data removed]",
      "text/plain": [
       "<Figure size 1000x500 with 1 Axes>"
      ]
     },
     "metadata": {},
     "output_type": "display_data"
    }
   ],
   "source": [
    "plt.figure(figsize=(10, 5))\n",
    "plt.plot(train_losses, label='Training score')\n",
    "plt.plot(val_losses, label='Validation score')\n",
    "plt.xlabel('Epoch')\n",
    "plt.ylabel('F1_score')\n",
    "plt.title('Training and Validation score')\n",
    "plt.legend()\n",
    "plt.show()"
   ]
  },
  {
   "cell_type": "markdown",
   "id": "acd533b9",
   "metadata": {},
   "source": [
    "## Тестирование нашей нейронки"
   ]
  },
  {
   "cell_type": "code",
   "execution_count": 39,
   "id": "ad5709e7",
   "metadata": {},
   "outputs": [
    {
     "name": "stdout",
     "output_type": "stream",
     "text": [
      "Test F1_score of the model on the test data: 0.2318840579710145 %\n"
     ]
    }
   ],
   "source": [
    "model.eval()\n",
    "with torch.no_grad():\n",
    "    correct = 0\n",
    "    total = 0\n",
    "    for x, y in test_loader:\n",
    "        y_pred = model(x)\n",
    "        predicted = (torch.flatten(y_pred.data > 0.5))\n",
    "        # total += y.size(0)\n",
    "        # correct += (predicted == y).sum().item()\n",
    "        break\n",
    "\n",
    "    print('Test F1_score of the model on the test data: {} %'.format(f1_score(y.cpu(), predicted.cpu())))"
   ]
  },
  {
   "cell_type": "markdown",
   "id": "d47c33b8",
   "metadata": {},
   "source": [
    "# Submission"
   ]
  },
  {
   "cell_type": "code",
   "execution_count": 8,
   "id": "938a10ca",
   "metadata": {},
   "outputs": [
    {
     "ename": "NameError",
     "evalue": "name 'model' is not defined",
     "output_type": "error",
     "traceback": [
      "\u001b[0;31m---------------------------------------------------------------------------\u001b[0m",
      "\u001b[0;31mNameError\u001b[0m                                 Traceback (most recent call last)",
      "Cell \u001b[0;32mIn[8], line 6\u001b[0m\n\u001b[1;32m      2\u001b[0m sample_submission \u001b[38;5;241m=\u001b[39m pd\u001b[38;5;241m.\u001b[39mread_csv(\u001b[38;5;124m\"\u001b[39m\u001b[38;5;124mtest.csv\u001b[39m\u001b[38;5;124m\"\u001b[39m, header\u001b[38;5;241m=\u001b[39m\u001b[38;5;28;01mNone\u001b[39;00m)\n\u001b[1;32m      3\u001b[0m sample_submission\u001b[38;5;241m.\u001b[39mcolumns \u001b[38;5;241m=\u001b[39m [\u001b[38;5;124m'\u001b[39m\u001b[38;5;124mFilename\u001b[39m\u001b[38;5;124m'\u001b[39m, \u001b[38;5;124m'\u001b[39m\u001b[38;5;124mLabel\u001b[39m\u001b[38;5;124m'\u001b[39m]\n\u001b[0;32m----> 6\u001b[0m \u001b[43mmodel\u001b[49m\u001b[38;5;241m.\u001b[39meval()\n\u001b[1;32m      7\u001b[0m \u001b[38;5;28;01mwith\u001b[39;00m torch\u001b[38;5;241m.\u001b[39mno_grad():\n\u001b[1;32m      8\u001b[0m     results \u001b[38;5;241m=\u001b[39m model(torch\u001b[38;5;241m.\u001b[39mFloatTensor(data_scoring\u001b[38;5;241m.\u001b[39mvalues)\u001b[38;5;241m.\u001b[39mto(device))\u001b[38;5;241m.\u001b[39mcpu()\u001b[38;5;241m.\u001b[39msqueeze()\n",
      "\u001b[0;31mNameError\u001b[0m: name 'model' is not defined"
     ]
    }
   ],
   "source": [
    "data_scoring = pd.read_csv(\"test_dataset.csv\", index_col=0)\n",
    "sample_submission = pd.read_csv(\"test.csv\", header=None)\n",
    "sample_submission.columns = ['Filename', 'Label']\n",
    "\n",
    "\n",
    "model.eval()\n",
    "with torch.no_grad():\n",
    "    results = model(torch.FloatTensor(data_scoring.values).to(device)).cpu().squeeze()\n",
    "\n",
    "\n",
    "submission = pd.DataFrame({\"Filename\": data_scoring.index, \"Label\": pd.Series(results).astype(int)})\n",
    "submission = submission.sort_values(by=\"Filename\")\n",
    "#ВСЕ ОК)))\n",
    "\n",
    "sample_submission = sample_submission.sort_values(by=\"Filename\")\n",
    "sample_submission[\"Label\"] = submission[\"Label\"]\n",
    "sample_submission = sample_submission.sort_index()\n",
    "\n",
    "\n",
    "sample_submission.to_csv(\"submission.csv\", index=False, header=False)"
   ]
  },
  {
   "cell_type": "code",
   "execution_count": null,
   "id": "3e5a0b71",
   "metadata": {},
   "outputs": [],
   "source": []
  }
 ],
 "metadata": {
  "kernelspec": {
   "display_name": "Python 3 (ipykernel)",
   "language": "python",
   "name": "python3"
  },
  "language_info": {
   "codemirror_mode": {
    "name": "ipython",
    "version": 3
   },
   "file_extension": ".py",
   "mimetype": "text/x-python",
   "name": "python",
   "nbconvert_exporter": "python",
   "pygments_lexer": "ipython3",
   "version": "3.11.5"
  }
 },
 "nbformat": 4,
 "nbformat_minor": 5
}
